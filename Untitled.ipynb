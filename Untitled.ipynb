{
 "cells": [
  {
   "cell_type": "code",
   "execution_count": 6,
   "id": "b3766946",
   "metadata": {},
   "outputs": [],
   "source": [
    "import requests\n",
    "from bs4 import BeautifulSoup\n",
    "\n",
    "def get_trending_titles():\n",
    "    URL = \"https://www.youtube.com/feed/trending\"\n",
    "    page = requests.get(URL)\n",
    "    soup = BeautifulSoup(page.content, \"html.parser\")\n",
    "    titles = [title.get(\"title\") for title in soup.find_all(\"a\", {\"class\": \"yt-simple-endpoint style-scope ytd-video-renderer\"})]\n",
    "    return titles\n",
    "\n",
    "if __name__ == '__main__':\n",
    "    trending_titles = get_trending_titles()\n",
    "    for title in trending_titles:\n",
    "        print(title)\n"
   ]
  }
 ],
 "metadata": {
  "kernelspec": {
   "display_name": "Python 3 (ipykernel)",
   "language": "python",
   "name": "python3"
  },
  "language_info": {
   "codemirror_mode": {
    "name": "ipython",
    "version": 3
   },
   "file_extension": ".py",
   "mimetype": "text/x-python",
   "name": "python",
   "nbconvert_exporter": "python",
   "pygments_lexer": "ipython3",
   "version": "3.10.9"
  }
 },
 "nbformat": 4,
 "nbformat_minor": 5
}
