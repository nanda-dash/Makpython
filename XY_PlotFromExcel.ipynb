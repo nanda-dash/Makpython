{
 "cells": [
  {
   "cell_type": "code",
   "execution_count": 15,
   "id": "efef7830",
   "metadata": {},
   "outputs": [
    {
     "data": {
      "application/vnd.jupyter.widget-view+json": {
       "model_id": "2e0c68732c3b4a06bf31be5d207142a8",
       "version_major": 2,
       "version_minor": 0
      },
      "text/plain": [
       "HBox(children=(FileUpload(value=(), accept='.xlsx', description='Upload'), SelectMultiple(description='Select …"
      ]
     },
     "metadata": {},
     "output_type": "display_data"
    },
    {
     "data": {
      "text/html": [
       "<a href=\"output.html\" target=\"_blank\">Open Plot</a>"
      ],
      "text/plain": [
       "<IPython.core.display.HTML object>"
      ]
     },
     "metadata": {},
     "output_type": "display_data"
    }
   ],
   "source": [
    "# Import necessary libraries\n",
    "import pandas as pd\n",
    "import plotly.express as px\n",
    "import plotly.offline as pyo\n",
    "import openpyxl\n",
    "from ipywidgets import widgets, HBox\n",
    "from IPython.display import display\n",
    "from IPython.display import HTML\n",
    "\n",
    "# Function to read an excel file and store it as a pandas DataFrame\n",
    "def read_excel_file(filepath):\n",
    "    # Load the excel file\n",
    "    wb = openpyxl.load_workbook(filepath)\n",
    "    # Select the first sheet\n",
    "    sheet = wb.active\n",
    "    # Store the sheet data in a pandas DataFrame\n",
    "    data = pd.DataFrame(sheet.values)\n",
    "    # Extract the table headers and store them in a list\n",
    "    headers = list(data.iloc[0])\n",
    "    # Remove the first row (containing the headers)\n",
    "    data = data.iloc[1:]\n",
    "    # Set the column names to the extracted headers\n",
    "    data.columns = headers\n",
    "    return data\n",
    "\n",
    "# Function to plot the selected data\n",
    "def plot_data(data, x_col, y_col):\n",
    "    # Create a scatter plot using plotly\n",
    "    fig = px.scatter(data, x=x_col, y=y_col)\n",
    "    # plot using plotly offline in a separate window\n",
    "    pyo.plot(fig,filename='output.html', auto_open=True)\n",
    "    #pyo.iplot(fig)\n",
    "    #fig.show()\n",
    "    #Hyperlink the generated plot\n",
    "    return HTML(f'<a href=\"output.html\" target=\"_blank\">Open Plot</a>')\n",
    "\n",
    "# Create a button to select an excel file\n",
    "upload_button = widgets.FileUpload(\n",
    "    accept='.xlsx',  # Only allow xlsx files\n",
    "    multiple=False  # Only allow one file to be uploaded\n",
    ")\n",
    "\n",
    "# Create a multi-select dropdown list with the table headers\n",
    "headers = []  # placeholder list for headers\n",
    "columns_dropdown = widgets.SelectMultiple(\n",
    "    options=headers,\n",
    "    description='Select Columns:',\n",
    "    disabled=False\n",
    ")\n",
    "\n",
    "# Create a button to plot the selected data\n",
    "plot_button = widgets.Button(description=\"Plot\")\n",
    "\n",
    "# Align the plot button and the upload button on the same line\n",
    "button_layout = HBox([upload_button,columns_dropdown, plot_button])\n",
    "display(button_layout)\n",
    "\n",
    "def on_upload(change):\n",
    "    # Get the uploaded file's data and store it in a DataFrame\n",
    "    file = change['new'][0]\n",
    "    data = read_excel_file(file.name)\n",
    "    # Get the headers from the DataFrame\n",
    "    headers.extend(data.columns)\n",
    "    columns_dropdown.options=headers\n",
    "    columns_dropdown.value=headers[:2]\n",
    "    # Create a multi-select dropdown list with the table headers\n",
    "    #display(columns_dropdown)\n",
    "    # Create a button to plot the selected data\n",
    "    #display(plot_button)\n",
    "    def on_plot_clicked(b):\n",
    "        # Extract the selected columns\n",
    "        x_col, y_col = columns_dropdown.value\n",
    "        # Plot the selected data\n",
    "        link = plot_data(data, x_col, y_col)\n",
    "        display(link)\n",
    "    plot_button.on_click(on_plot_clicked)\n",
    "    \n",
    "upload_button.observe(on_upload, 'value')"
   ]
  },
  {
   "cell_type": "code",
   "execution_count": null,
   "id": "13a591c4",
   "metadata": {},
   "outputs": [],
   "source": []
  }
 ],
 "metadata": {
  "kernelspec": {
   "display_name": "Python 3 (ipykernel)",
   "language": "python",
   "name": "python3"
  },
  "language_info": {
   "codemirror_mode": {
    "name": "ipython",
    "version": 3
   },
   "file_extension": ".py",
   "mimetype": "text/x-python",
   "name": "python",
   "nbconvert_exporter": "python",
   "pygments_lexer": "ipython3",
   "version": "3.10.9"
  }
 },
 "nbformat": 4,
 "nbformat_minor": 5
}
