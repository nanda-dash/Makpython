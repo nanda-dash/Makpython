{
 "cells": [
  {
   "cell_type": "code",
   "execution_count": 1,
   "id": "483b3206",
   "metadata": {},
   "outputs": [
    {
     "name": "stdout",
     "output_type": "stream",
     "text": [
      "Enter the input XML file name: output.xml\n"
     ]
    }
   ],
   "source": [
    "# This script parses the XML file and generates two files, example.c and example.h. \n",
    "# The example.c file includes the example.h header file and generates the variable \n",
    "# declarations based on the parameter values in the XML file. The example.h file contains\n",
    "# the extern declarations for the variables generated in the example.c file.\n",
    "# Note that in this example, we are generating a uint32_t variable for each parameter value, \n",
    "# and the variable name is based on the parameter's group and name. You may need to modify this \n",
    "# depending on your specific needs.\n",
    "\n",
    "import xml.etree.ElementTree as ET\n",
    "\n",
    "# Ask user for the input file name\n",
    "input_file = input(\"Enter the input XML file name: \")\n",
    "\n",
    "# Parse the XML file\n",
    "tree = ET.parse(input_file)\n",
    "root = tree.getroot()\n",
    "\n",
    "# Generate the C file\n",
    "with open('example.c', 'w') as f:\n",
    "    # Include the header file\n",
    "    f.write('#include \"example.h\"\\n\\n')\n",
    "    # Generate the variable declarations\n",
    "    for param in root.findall('./parameter_values/parameter_value'):\n",
    "        group = param.attrib['group']\n",
    "        name = param.attrib['name']\n",
    "        value = param.attrib['value']\n",
    "        f.write('const uint32_t {}_{} = {};\\n'.format(group, name, value))\n",
    "\n",
    "# Generate the h file\n",
    "with open('example.h', 'w') as f:\n",
    "    f.write('#ifndef EXAMPLE_H\\n')\n",
    "    f.write('#define EXAMPLE_H\\n\\n')\n",
    "    # Generate the variable declarations\n",
    "    for param in root.findall('./parameter_values/parameter_value'):\n",
    "        group = param.attrib['group']\n",
    "        name = param.attrib['name']\n",
    "        f.write('extern const uint32_t {}_{};\\n'.format(group, name))\n",
    "    f.write('\\n#endif')\n"
   ]
  },
  {
   "cell_type": "code",
   "execution_count": null,
   "id": "c5568830",
   "metadata": {},
   "outputs": [],
   "source": []
  }
 ],
 "metadata": {
  "kernelspec": {
   "display_name": "Python 3 (ipykernel)",
   "language": "python",
   "name": "python3"
  },
  "language_info": {
   "codemirror_mode": {
    "name": "ipython",
    "version": 3
   },
   "file_extension": ".py",
   "mimetype": "text/x-python",
   "name": "python",
   "nbconvert_exporter": "python",
   "pygments_lexer": "ipython3",
   "version": "3.10.9"
  }
 },
 "nbformat": 4,
 "nbformat_minor": 5
}
