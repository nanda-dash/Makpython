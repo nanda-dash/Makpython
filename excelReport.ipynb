{
 "cells": [
  {
   "cell_type": "code",
   "execution_count": 5,
   "id": "d9175e7b",
   "metadata": {},
   "outputs": [
    {
     "data": {
      "text/markdown": [
       "[Link to Excel report](report.xlsx)"
      ],
      "text/plain": [
       "<IPython.core.display.Markdown object>"
      ]
     },
     "metadata": {},
     "output_type": "display_data"
    }
   ],
   "source": [
    "import openpyxl\n",
    "# Create a new Excel workbook\n",
    "workbook = openpyxl.Workbook()\n",
    "\n",
    "# Add data to the first sheet\n",
    "sheet = workbook.active\n",
    "sheet.title = 'Sheet1'\n",
    "sheet['A1'] = 'Column 1'\n",
    "sheet['B1'] = 'Column 2'\n",
    "\n",
    "# Save the workbook to a file\n",
    "workbook.save('report.xlsx')\n",
    "\n",
    "from IPython.display import display, Markdown\n",
    "\n",
    "url = 'report.xlsx'\n",
    "display(Markdown(f'[Link to Excel report]({url})'))\n"
   ]
  },
  {
   "cell_type": "code",
   "execution_count": null,
   "id": "daf9e492",
   "metadata": {},
   "outputs": [],
   "source": []
  }
 ],
 "metadata": {
  "kernelspec": {
   "display_name": "Python 3 (ipykernel)",
   "language": "python",
   "name": "python3"
  },
  "language_info": {
   "codemirror_mode": {
    "name": "ipython",
    "version": 3
   },
   "file_extension": ".py",
   "mimetype": "text/x-python",
   "name": "python",
   "nbconvert_exporter": "python",
   "pygments_lexer": "ipython3",
   "version": "3.10.9"
  }
 },
 "nbformat": 4,
 "nbformat_minor": 5
}
