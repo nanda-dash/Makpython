{
 "cells": [
  {
   "cell_type": "code",
   "execution_count": 1,
   "id": "c7fa779a",
   "metadata": {},
   "outputs": [],
   "source": [
    "import openpyxl\n",
    "from random import shuffle\n",
    "\n",
    "# create a new workbook and sheet\n",
    "workbook = openpyxl.Workbook()\n",
    "sheet = workbook.active\n",
    "\n",
    "# create the template for the puzzle\n",
    "puzzle = [    [0, 0, 0, 0, 0, 0, 0, 0, 0],\n",
    "    [0, 0, 0, 0, 0, 0, 0, 0, 0],\n",
    "    [0, 0, 0, 0, 0, 0, 0, 0, 0],\n",
    "    [0, 0, 0, 0, 0, 0, 0, 0, 0],\n",
    "    [0, 0, 0, 0, 0, 0, 0, 0, 0],\n",
    "    [0, 0, 0, 0, 0, 0, 0, 0, 0],\n",
    "    [0, 0, 0, 0, 0, 0, 0, 0, 0],\n",
    "    [0, 0, 0, 0, 0, 0, 0, 0, 0],\n",
    "    [0, 0, 0, 0, 0, 0, 0, 0, 0]\n",
    "]\n",
    "\n",
    "# randomly shuffle the rows and columns\n",
    "for i in range(9):\n",
    "    shuffle(puzzle[i])\n",
    "shuffle(puzzle)\n",
    "\n",
    "# fill in the first 3x3 grid with random numbers\n",
    "for i in range(3):\n",
    "    for j in range(3):\n",
    "        nums = [1, 2, 3, 4, 5, 6, 7, 8, 9]\n",
    "        shuffle(nums)\n",
    "        for k in range(3):\n",
    "            for l in range(3):\n",
    "                puzzle[3*i+k][3*j+l] = nums.pop()\n",
    "\n",
    "# save the puzzle to the first sheet in the workbook\n",
    "for i in range(9):\n",
    "    for j in range(9):\n",
    "        sheet.cell(row=i+1, column=j+1).value = puzzle[i][j]\n",
    "\n",
    "# save the workbook\n",
    "workbook.save(\"sudoku.xlsx\")\n"
   ]
  },
  {
   "cell_type": "code",
   "execution_count": null,
   "id": "556ed6bd",
   "metadata": {},
   "outputs": [],
   "source": []
  }
 ],
 "metadata": {
  "kernelspec": {
   "display_name": "Python 3 (ipykernel)",
   "language": "python",
   "name": "python3"
  },
  "language_info": {
   "codemirror_mode": {
    "name": "ipython",
    "version": 3
   },
   "file_extension": ".py",
   "mimetype": "text/x-python",
   "name": "python",
   "nbconvert_exporter": "python",
   "pygments_lexer": "ipython3",
   "version": "3.10.9"
  }
 },
 "nbformat": 4,
 "nbformat_minor": 5
}
