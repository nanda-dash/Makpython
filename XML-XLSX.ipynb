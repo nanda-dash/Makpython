{
 "cells": [
  {
   "cell_type": "code",
   "execution_count": 6,
   "id": "b3702f67",
   "metadata": {},
   "outputs": [
    {
     "name": "stdout",
     "output_type": "stream",
     "text": [
      "Enter the input XML file name: parameter.xml\n",
      "Successfully converted parameter.xml to output.xlsx.\n"
     ]
    }
   ],
   "source": [
    "#This code converts XML file to Excel\n",
    "#Change the XLSX file parameters and use \n",
    "# XLSX to XML converter script to get updated XML file\n",
    "\n",
    "import xml.etree.ElementTree as ET\n",
    "import pandas as pd\n",
    "\n",
    "# Ask user for the input file name\n",
    "input_file = input(\"Enter the input XML file name: \")\n",
    "\n",
    "# Parse the XML file\n",
    "tree = ET.parse(input_file)\n",
    "root = tree.getroot()\n",
    "\n",
    "# Extract the parameter values\n",
    "param_values = []\n",
    "for param in root.findall('./parameter_values/parameter_value'):\n",
    "    group = param.get('group')\n",
    "    name = param.get('name')\n",
    "    value = param.get('value')\n",
    "    param_values.append({'group': group, 'name': name, 'value': value})\n",
    "\n",
    "# Convert the parameter values into a pandas DataFrame\n",
    "df = pd.DataFrame(param_values)\n",
    "\n",
    "# Save the DataFrame to an Excel file\n",
    "output_file = 'output.xlsx'\n",
    "df.to_excel(output_file, index=False)\n",
    "\n",
    "print(f\"Successfully converted {input_file} to {output_file}.\")\n"
   ]
  },
  {
   "cell_type": "code",
   "execution_count": 9,
   "id": "a8f3b7ee",
   "metadata": {},
   "outputs": [
    {
     "name": "stdout",
     "output_type": "stream",
     "text": [
      "Enter the input xlsx file name: output.xlsx\n",
      "Successfully converted input.xlsx to output.xml.\n"
     ]
    }
   ],
   "source": [
    "#This code converts Excel file to XML\n",
    "\n",
    "import pandas as pd\n",
    "import xml.etree.ElementTree as ET\n",
    "\n",
    "# Ask user for the input file name\n",
    "input_file = input(\"Enter the input xlsx file name: \")\n",
    "\n",
    "# Read the Excel file into a pandas DataFrame\n",
    "df = pd.read_excel(input_file)\n",
    "\n",
    "# Create an ElementTree object\n",
    "root = ET.Element('values')\n",
    "param_values = ET.SubElement(root, 'parameter_values')\n",
    "\n",
    "# Iterate over the rows in the DataFrame and add them as XML elements\n",
    "for i, row in df.iterrows():\n",
    "    param = ET.SubElement(param_values, 'parameter_value', group=row['group'], name=row['name'], value=str(row['value']))\n",
    "\n",
    "# Write the ElementTree to an XML file\n",
    "ET.ElementTree(root).write('output.xml', encoding='utf-8', xml_declaration=True)\n",
    "\n",
    "print(\"Successfully converted input.xlsx to output.xml.\")\n"
   ]
  }
 ],
 "metadata": {
  "kernelspec": {
   "display_name": "Python 3 (ipykernel)",
   "language": "python",
   "name": "python3"
  },
  "language_info": {
   "codemirror_mode": {
    "name": "ipython",
    "version": 3
   },
   "file_extension": ".py",
   "mimetype": "text/x-python",
   "name": "python",
   "nbconvert_exporter": "python",
   "pygments_lexer": "ipython3",
   "version": "3.10.9"
  }
 },
 "nbformat": 4,
 "nbformat_minor": 5
}
