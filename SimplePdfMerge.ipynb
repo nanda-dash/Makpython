{
 "cells": [
  {
   "cell_type": "markdown",
   "id": "3f8d615c",
   "metadata": {},
   "source": [
    "# How To Merge Multiple PDFs Together"
   ]
  },
  {
   "cell_type": "markdown",
   "id": "dcdf96d6",
   "metadata": {},
   "source": [
    "from PyPDF2 import PdfFileMerger\n",
    "import os\n",
    "\n",
    "#Create an instance of PdfFileMerger() class\n",
    "merger = PdfFileMerger()\n",
    "\n",
    "#Define the path to the folder with the PDF files\n",
    "path_to_files = r'myApp/'\n",
    "\n",
    "#Get the file names in the directory\n",
    "for root, dirs, file_names in os.walk(path_to_files):\n",
    "    #Iterate over the list of the file names\n",
    "    for file_name in file_names:\n",
    "        #Append PDF files\n",
    "        merger.append(path_to_files + file_name)\n",
    "\n",
    "#Write out the merged PDF file\n",
    "merger.write(\"merged_all_pages.pdf\")\n",
    "merger.close()"
   ]
  },
  {
   "cell_type": "code",
   "execution_count": 32,
   "id": "838961c6",
   "metadata": {},
   "outputs": [
    {
     "name": "stdout",
     "output_type": "stream",
     "text": [
      "Requirement already satisfied: PyPDF2 in /usr/local/lib/python3.10/site-packages (3.0.0)\n",
      "\u001b[33mWARNING: Running pip as the 'root' user can result in broken permissions and conflicting behaviour with the system package manager. It is recommended to use a virtual environment instead: https://pip.pypa.io/warnings/venv\u001b[0m\u001b[33m\n",
      "\u001b[0m"
     ]
    }
   ],
   "source": [
    "!pip install PyPDF2"
   ]
  },
  {
   "cell_type": "code",
   "execution_count": 33,
   "id": "460f8382",
   "metadata": {},
   "outputs": [
    {
     "name": "stdout",
     "output_type": "stream",
     "text": [
      "Operation completed\n"
     ]
    }
   ],
   "source": [
    "from PyPDF2 import PdfWriter\n",
    "\n",
    "merger = PdfWriter()\n",
    "\n",
    "input1 = open(\"file1.pdf\", \"rb\")\n",
    "input2 = open(\"file2.pdf\", \"rb\")\n",
    "input3 = open(\"file3.pdf\", \"rb\")\n",
    "\n",
    "# add the first 3 pages of input1 document to output\n",
    "merger.append(fileobj=input1, pages=(0, 3))\n",
    "#merger.append(input1)\n",
    "\n",
    "# insert the first page of input2 into the output beginning after the second page\n",
    "merger.merge(position=2, fileobj=input2, pages=(0, 1))\n",
    "#merger.append(input2)\n",
    "\n",
    "# append entire input3 document to the end of the output document\n",
    "merger.append(input3)\n",
    "\n",
    "# Write to an output PDF document\n",
    "output = open(\"document-merged.pdf\", \"wb\")\n",
    "merger.write(output)\n",
    "\n",
    "# Close File Descriptors\n",
    "merger.close()\n",
    "output.close()\n",
    "print('Operation completed')"
   ]
  },
  {
   "cell_type": "markdown",
   "id": "620ca806",
   "metadata": {},
   "source": [
    "# How to Splitting PDF File"
   ]
  },
  {
   "cell_type": "code",
   "execution_count": 24,
   "id": "9f383433",
   "metadata": {},
   "outputs": [],
   "source": [
    "import os\n",
    "from PyPDF2 import PdfReader, PdfWriter"
   ]
  },
  {
   "cell_type": "code",
   "execution_count": 30,
   "id": "13852a21",
   "metadata": {},
   "outputs": [],
   "source": [
    "def split_pdf(path, n):\n",
    "    # Open the PDF file in read-binary mode\n",
    "    with open(path, 'rb') as file:\n",
    "        # Create a PDF object\n",
    "        pdf = PdfReader(file)\n",
    "\n",
    "        # Get the total number of pages\n",
    "        num_pages = len(pdf.pages)\n",
    "\n",
    "        # Calculate the number of pages per chunk\n",
    "        pages_per_chunk = num_pages // n\n",
    "\n",
    "        # Iterate over the chunks\n",
    "        for i in range(n):\n",
    "            # Create a PDF object for the new chunk\n",
    "            new_pdf = PdfWriter()\n",
    "            # Calculate the range of pages for the current chunk\n",
    "            start_page = i * pages_per_chunk\n",
    "            end_page = start_page + pages_per_chunk\n",
    "            # Add the pages to the new PDF\n",
    "            for page in range(start_page, end_page):\n",
    "                new_pdf.add_page(pdf.pages)\n",
    "            # Create a new PDF file for the current chunk\n",
    "            with open(f'chunk_{i}.pdf', 'wb') as output:\n",
    "                new_pdf.write(output)\n"
   ]
  },
  {
   "cell_type": "code",
   "execution_count": 31,
   "id": "b78f2c13",
   "metadata": {},
   "outputs": [
    {
     "ename": "TypeError",
     "evalue": "sequence indices must be integers",
     "output_type": "error",
     "traceback": [
      "\u001b[0;31m---------------------------------------------------------------------------\u001b[0m",
      "\u001b[0;31mTypeError\u001b[0m                                 Traceback (most recent call last)",
      "Cell \u001b[0;32mIn[31], line 2\u001b[0m\n\u001b[1;32m      1\u001b[0m \u001b[38;5;66;03m# Split the PDF file into 10 chunks\u001b[39;00m\n\u001b[0;32m----> 2\u001b[0m \u001b[43msplit_pdf\u001b[49m\u001b[43m(\u001b[49m\u001b[38;5;124;43m'\u001b[39;49m\u001b[38;5;124;43mdocument-merged.pdf\u001b[39;49m\u001b[38;5;124;43m'\u001b[39;49m\u001b[43m,\u001b[49m\u001b[43m \u001b[49m\u001b[38;5;241;43m2\u001b[39;49m\u001b[43m)\u001b[49m\n",
      "Cell \u001b[0;32mIn[30], line 22\u001b[0m, in \u001b[0;36msplit_pdf\u001b[0;34m(path, n)\u001b[0m\n\u001b[1;32m     20\u001b[0m \u001b[38;5;66;03m# Add the pages to the new PDF\u001b[39;00m\n\u001b[1;32m     21\u001b[0m \u001b[38;5;28;01mfor\u001b[39;00m page \u001b[38;5;129;01min\u001b[39;00m \u001b[38;5;28mrange\u001b[39m(start_page, end_page):\n\u001b[0;32m---> 22\u001b[0m     \u001b[43mnew_pdf\u001b[49m\u001b[38;5;241;43m.\u001b[39;49m\u001b[43madd_page\u001b[49m\u001b[43m(\u001b[49m\u001b[43mpdf\u001b[49m\u001b[38;5;241;43m.\u001b[39;49m\u001b[43mpages\u001b[49m\u001b[43m)\u001b[49m\n\u001b[1;32m     23\u001b[0m \u001b[38;5;66;03m# Create a new PDF file for the current chunk\u001b[39;00m\n\u001b[1;32m     24\u001b[0m \u001b[38;5;28;01mwith\u001b[39;00m \u001b[38;5;28mopen\u001b[39m(\u001b[38;5;124mf\u001b[39m\u001b[38;5;124m'\u001b[39m\u001b[38;5;124mchunk_\u001b[39m\u001b[38;5;132;01m{\u001b[39;00mi\u001b[38;5;132;01m}\u001b[39;00m\u001b[38;5;124m.pdf\u001b[39m\u001b[38;5;124m'\u001b[39m, \u001b[38;5;124m'\u001b[39m\u001b[38;5;124mwb\u001b[39m\u001b[38;5;124m'\u001b[39m) \u001b[38;5;28;01mas\u001b[39;00m output:\n",
      "File \u001b[0;32m/usr/local/lib/python3.10/site-packages/PyPDF2/_writer.py:321\u001b[0m, in \u001b[0;36mPdfWriter.add_page\u001b[0;34m(self, page, excluded_keys)\u001b[0m\n\u001b[1;32m    306\u001b[0m \u001b[38;5;28;01mdef\u001b[39;00m \u001b[38;5;21madd_page\u001b[39m(\n\u001b[1;32m    307\u001b[0m     \u001b[38;5;28mself\u001b[39m,\n\u001b[1;32m    308\u001b[0m     page: PageObject,\n\u001b[1;32m    309\u001b[0m     excluded_keys: Iterable[\u001b[38;5;28mstr\u001b[39m] \u001b[38;5;241m=\u001b[39m (),\n\u001b[1;32m    310\u001b[0m ) \u001b[38;5;241m-\u001b[39m\u001b[38;5;241m>\u001b[39m PageObject:\n\u001b[1;32m    311\u001b[0m \u001b[38;5;250m    \u001b[39m\u001b[38;5;124;03m\"\"\"\u001b[39;00m\n\u001b[1;32m    312\u001b[0m \u001b[38;5;124;03m    Add a page to this PDF file.\u001b[39;00m\n\u001b[1;32m    313\u001b[0m \u001b[38;5;124;03m    Recommended for advanced usage including the adequate excluded_keys\u001b[39;00m\n\u001b[0;32m   (...)\u001b[0m\n\u001b[1;32m    319\u001b[0m \u001b[38;5;124;03m        an instance of :class:`PageObject<PyPDF2._page.PageObject>`\u001b[39;00m\n\u001b[1;32m    320\u001b[0m \u001b[38;5;124;03m    \"\"\"\u001b[39;00m\n\u001b[0;32m--> 321\u001b[0m     \u001b[38;5;28;01mreturn\u001b[39;00m \u001b[38;5;28;43mself\u001b[39;49m\u001b[38;5;241;43m.\u001b[39;49m\u001b[43m_add_page\u001b[49m\u001b[43m(\u001b[49m\u001b[43mpage\u001b[49m\u001b[43m,\u001b[49m\u001b[43m \u001b[49m\u001b[38;5;28;43mlist\u001b[39;49m\u001b[38;5;241;43m.\u001b[39;49m\u001b[43mappend\u001b[49m\u001b[43m,\u001b[49m\u001b[43m \u001b[49m\u001b[43mexcluded_keys\u001b[49m\u001b[43m)\u001b[49m\n",
      "File \u001b[0;32m/usr/local/lib/python3.10/site-packages/PyPDF2/_writer.py:258\u001b[0m, in \u001b[0;36mPdfWriter._add_page\u001b[0;34m(self, page, action, excluded_keys)\u001b[0m\n\u001b[1;32m    252\u001b[0m \u001b[38;5;28;01mdef\u001b[39;00m \u001b[38;5;21m_add_page\u001b[39m(\n\u001b[1;32m    253\u001b[0m     \u001b[38;5;28mself\u001b[39m,\n\u001b[1;32m    254\u001b[0m     page: PageObject,\n\u001b[1;32m    255\u001b[0m     action: Callable[[Any, IndirectObject], \u001b[38;5;28;01mNone\u001b[39;00m],\n\u001b[1;32m    256\u001b[0m     excluded_keys: Iterable[\u001b[38;5;28mstr\u001b[39m] \u001b[38;5;241m=\u001b[39m (),\n\u001b[1;32m    257\u001b[0m ) \u001b[38;5;241m-\u001b[39m\u001b[38;5;241m>\u001b[39m PageObject:\n\u001b[0;32m--> 258\u001b[0m     \u001b[38;5;28;01massert\u001b[39;00m cast(\u001b[38;5;28mstr\u001b[39m, \u001b[43mpage\u001b[49m\u001b[43m[\u001b[49m\u001b[43mPA\u001b[49m\u001b[38;5;241;43m.\u001b[39;49m\u001b[43mTYPE\u001b[49m\u001b[43m]\u001b[49m) \u001b[38;5;241m==\u001b[39m CO\u001b[38;5;241m.\u001b[39mPAGE\n\u001b[1;32m    259\u001b[0m     page_org \u001b[38;5;241m=\u001b[39m page\n\u001b[1;32m    260\u001b[0m     excluded_keys \u001b[38;5;241m=\u001b[39m \u001b[38;5;28mlist\u001b[39m(excluded_keys)\n",
      "File \u001b[0;32m/usr/local/lib/python3.10/site-packages/PyPDF2/_page.py:2071\u001b[0m, in \u001b[0;36m_VirtualList.__getitem__\u001b[0;34m(self, index)\u001b[0m\n\u001b[1;32m   2069\u001b[0m     \u001b[38;5;28;01mreturn\u001b[39;00m \u001b[38;5;28mcls\u001b[39m(indices\u001b[38;5;241m.\u001b[39m\u001b[38;5;21m__len__\u001b[39m, \u001b[38;5;28;01mlambda\u001b[39;00m idx: \u001b[38;5;28mself\u001b[39m[indices[idx]])  \u001b[38;5;66;03m# type: ignore\u001b[39;00m\n\u001b[1;32m   2070\u001b[0m \u001b[38;5;28;01mif\u001b[39;00m \u001b[38;5;129;01mnot\u001b[39;00m \u001b[38;5;28misinstance\u001b[39m(index, \u001b[38;5;28mint\u001b[39m):\n\u001b[0;32m-> 2071\u001b[0m     \u001b[38;5;28;01mraise\u001b[39;00m \u001b[38;5;167;01mTypeError\u001b[39;00m(\u001b[38;5;124m\"\u001b[39m\u001b[38;5;124msequence indices must be integers\u001b[39m\u001b[38;5;124m\"\u001b[39m)\n\u001b[1;32m   2072\u001b[0m len_self \u001b[38;5;241m=\u001b[39m \u001b[38;5;28mlen\u001b[39m(\u001b[38;5;28mself\u001b[39m)\n\u001b[1;32m   2073\u001b[0m \u001b[38;5;28;01mif\u001b[39;00m index \u001b[38;5;241m<\u001b[39m \u001b[38;5;241m0\u001b[39m:\n\u001b[1;32m   2074\u001b[0m     \u001b[38;5;66;03m# support negative indexes\u001b[39;00m\n",
      "\u001b[0;31mTypeError\u001b[0m: sequence indices must be integers"
     ]
    }
   ],
   "source": [
    "# Split the PDF file into 10 chunks\n",
    "split_pdf('document-merged.pdf', 2)"
   ]
  },
  {
   "cell_type": "code",
   "execution_count": null,
   "id": "f3674b73",
   "metadata": {},
   "outputs": [],
   "source": []
  }
 ],
 "metadata": {
  "kernelspec": {
   "display_name": "Python 3 (ipykernel)",
   "language": "python",
   "name": "python3"
  },
  "language_info": {
   "codemirror_mode": {
    "name": "ipython",
    "version": 3
   },
   "file_extension": ".py",
   "mimetype": "text/x-python",
   "name": "python",
   "nbconvert_exporter": "python",
   "pygments_lexer": "ipython3",
   "version": "3.10.9"
  }
 },
 "nbformat": 4,
 "nbformat_minor": 5
}
