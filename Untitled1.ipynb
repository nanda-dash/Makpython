{
 "cells": [
  {
   "cell_type": "code",
   "execution_count": 11,
   "id": "dbd3ca4b",
   "metadata": {
    "scrolled": true
   },
   "outputs": [
    {
     "data": {
      "application/vnd.jupyter.widget-view+json": {
       "model_id": "66797dc035d0425391aafeb61461b9e0",
       "version_major": 2,
       "version_minor": 0
      },
      "text/plain": [
       "HBox(children=(FileUpload(value=(), accept='.xlsx', description='Upload'), SelectMultiple(description='Select …"
      ]
     },
     "metadata": {},
     "output_type": "display_data"
    },
    {
     "name": "stdout",
     "output_type": "stream",
     "text": [
      "('Cycle_Index', 'Discharge Time (s)', 'Decrement 3.6-3.4V (s)')\n"
     ]
    },
    {
     "ename": "IndexError",
     "evalue": "tuple index out of range",
     "output_type": "error",
     "traceback": [
      "\u001b[0;31m---------------------------------------------------------------------------\u001b[0m",
      "\u001b[0;31mIndexError\u001b[0m                                Traceback (most recent call last)",
      "Cell \u001b[0;32mIn[11], line 77\u001b[0m, in \u001b[0;36mon_upload.<locals>.on_plot_clicked\u001b[0;34m(b)\u001b[0m\n\u001b[1;32m     75\u001b[0m \u001b[38;5;28mprint\u001b[39m(columns)\n\u001b[1;32m     76\u001b[0m \u001b[38;5;66;03m# Plot the selected data\u001b[39;00m\n\u001b[0;32m---> 77\u001b[0m link \u001b[38;5;241m=\u001b[39m \u001b[43mplot_data\u001b[49m\u001b[43m(\u001b[49m\u001b[43mdata\u001b[49m\u001b[43m,\u001b[49m\u001b[43m \u001b[49m\u001b[43mcolumns\u001b[49m\u001b[43m)\u001b[49m\n\u001b[1;32m     78\u001b[0m display(link)\n",
      "Cell \u001b[0;32mIn[11], line 30\u001b[0m, in \u001b[0;36mplot_data\u001b[0;34m(data, columns)\u001b[0m\n\u001b[1;32m     28\u001b[0m \u001b[38;5;28;01mfor\u001b[39;00m i \u001b[38;5;129;01min\u001b[39;00m \u001b[38;5;28mrange\u001b[39m(\u001b[38;5;241m0\u001b[39m, \u001b[38;5;28mlen\u001b[39m(columns), \u001b[38;5;241m2\u001b[39m):\n\u001b[1;32m     29\u001b[0m     x_col \u001b[38;5;241m=\u001b[39m columns[i]\n\u001b[0;32m---> 30\u001b[0m     y_col \u001b[38;5;241m=\u001b[39m \u001b[43mcolumns\u001b[49m\u001b[43m[\u001b[49m\u001b[43mi\u001b[49m\u001b[38;5;241;43m+\u001b[39;49m\u001b[38;5;241;43m1\u001b[39;49m\u001b[43m]\u001b[49m\n\u001b[1;32m     31\u001b[0m     fig \u001b[38;5;241m=\u001b[39m px\u001b[38;5;241m.\u001b[39mscatter(data, x\u001b[38;5;241m=\u001b[39mx_col, y\u001b[38;5;241m=\u001b[39my_col)   \n\u001b[1;32m     32\u001b[0m \u001b[38;5;66;03m# Create a scatter plot using plotly\u001b[39;00m\n",
      "\u001b[0;31mIndexError\u001b[0m: tuple index out of range"
     ]
    }
   ],
   "source": [
    "# Import necessary libraries\n",
    "import pandas as pd\n",
    "import plotly.express as px\n",
    "import plotly.offline as pyo\n",
    "import openpyxl\n",
    "from ipywidgets import widgets, HBox\n",
    "from IPython.display import display\n",
    "from IPython.display import HTML\n",
    "\n",
    "# Function to read an excel file and store it as a pandas DataFrame\n",
    "def read_excel_file(filepath):\n",
    "    # Load the excel file\n",
    "    wb = openpyxl.load_workbook(filepath)\n",
    "    # Select the first sheet\n",
    "    sheet = wb.active\n",
    "    # Store the sheet data in a pandas DataFrame\n",
    "    data = pd.DataFrame(sheet.values)\n",
    "    # Extract the table headers and store them in a list\n",
    "    headers = list(data.iloc[0])\n",
    "    # Remove the first row (containing the headers)\n",
    "    data = data.iloc[1:]\n",
    "    # Set the column names to the extracted headers\n",
    "    data.columns = headers\n",
    "    return data\n",
    "\n",
    "# Function to plot the selected data\n",
    "def plot_data(data, columns):\n",
    "    for i in range(0, len(columns), 2):\n",
    "        x_col = columns[i]\n",
    "        y_col = columns[i+1]\n",
    "        fig = px.scatter(data, x=x_col, y=y_col)   \n",
    "    # Create a scatter plot using plotly\n",
    "    fig = px.scatter(data, x=x_col, y=y_col)\n",
    "    # plot using plotly offline in a separate window\n",
    "    pyo.plot(fig,filename='output.html', auto_open=True)\n",
    "    #Hyperlink the generated plot\n",
    "    return HTML(f'<a href=\"output.html\" target=\"_blank\">Open Plot</a>')\n",
    "\n",
    "# Create a button to select an excel file\n",
    "upload_button = widgets.FileUpload(\n",
    "    accept='.xlsx',  # Only allow xlsx files\n",
    "    multiple=False  # Only allow one file to be uploaded\n",
    ")\n",
    "\n",
    "# Create a multi-select dropdown list with the table headers\n",
    "headers = []  # placeholder list for headers\n",
    "columns_dropdown = widgets.SelectMultiple(\n",
    "    options=headers,\n",
    "    description='Select Columns:',\n",
    "    disabled=False\n",
    ")\n",
    "\n",
    "# Create a button to plot the selected data\n",
    "plot_button = widgets.Button(description=\"Plot\")\n",
    "\n",
    "# Align the plot button and the upload button on the same line\n",
    "button_layout = HBox([upload_button,columns_dropdown, plot_button])\n",
    "display(button_layout)\n",
    "\n",
    "def on_upload(change):\n",
    "    # Get the uploaded file's data and store it in a DataFrame\n",
    "    file = change['new'][0]\n",
    "    data = read_excel_file(file.name)\n",
    "    # Get the headers from the DataFrame\n",
    "    headers.extend(data.columns)\n",
    "    columns_dropdown.options=headers\n",
    "    columns_dropdown.value=headers\n",
    "    # Create a multi-select dropdown list with the table headers\n",
    "    #display(columns_dropdown)\n",
    "    # Create a button to plot the selected data\n",
    "    #display(plot_button)\n",
    "    def on_plot_clicked(b):\n",
    "        # Extract the selected columns\n",
    "        columns = columns_dropdown.value\n",
    "        print(columns)\n",
    "        # Plot the selected data\n",
    "        link = plot_data(data, columns)\n",
    "        display(link)\n",
    "    plot_button.on_click(on_plot_clicked)\n",
    "    \n",
    "upload_button.observe(on_upload, 'value')"
   ]
  },
  {
   "cell_type": "code",
   "execution_count": null,
   "id": "4ac02825",
   "metadata": {},
   "outputs": [],
   "source": []
  }
 ],
 "metadata": {
  "kernelspec": {
   "display_name": "Python 3 (ipykernel)",
   "language": "python",
   "name": "python3"
  },
  "language_info": {
   "codemirror_mode": {
    "name": "ipython",
    "version": 3
   },
   "file_extension": ".py",
   "mimetype": "text/x-python",
   "name": "python",
   "nbconvert_exporter": "python",
   "pygments_lexer": "ipython3",
   "version": "3.10.9"
  }
 },
 "nbformat": 4,
 "nbformat_minor": 5
}
